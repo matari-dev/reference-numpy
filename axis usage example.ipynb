{
 "cells": [
  {
   "cell_type": "code",
   "execution_count": 15,
   "id": "8702df16",
   "metadata": {},
   "outputs": [],
   "source": [
    "import numpy as np"
   ]
  },
  {
   "cell_type": "code",
   "execution_count": 23,
   "id": "57fd33e4",
   "metadata": {},
   "outputs": [
    {
     "name": "stdout",
     "output_type": "stream",
     "text": [
      "[[ 5  1  3  2  4  6]\n",
      " [ 5  8  0  3  1  2]\n",
      " [ 3 10  6 21 15  1]]\n"
     ]
    }
   ],
   "source": [
    "arr1 = np.array([\n",
    "    [ 5,  1,  3,  2,  4,  6],\n",
    "    [ 5,  8,  0,  3,  1,  2],\n",
    "    [ 3, 10,  6, 21, 15,  1]  \n",
    "])\n",
    "print(arr1)"
   ]
  },
  {
   "cell_type": "code",
   "execution_count": 24,
   "id": "033d6d7d",
   "metadata": {},
   "outputs": [
    {
     "data": {
      "text/plain": [
       "(3, 6)"
      ]
     },
     "execution_count": 24,
     "metadata": {},
     "output_type": "execute_result"
    }
   ],
   "source": [
    "arr1.shape  # it's 3 rows, 6 columns"
   ]
  },
  {
   "cell_type": "code",
   "execution_count": 25,
   "id": "1f951d05",
   "metadata": {},
   "outputs": [
    {
     "data": {
      "text/plain": [
       "2"
      ]
     },
     "execution_count": 25,
     "metadata": {},
     "output_type": "execute_result"
    }
   ],
   "source": [
    "arr1.ndim  # it's 2D"
   ]
  },
  {
   "cell_type": "markdown",
   "id": "2031e8c3",
   "metadata": {},
   "source": [
    "#### For every row (`axis=1`)  \n",
    "#### delete the third item in that row (_index = 2_)"
   ]
  },
  {
   "cell_type": "code",
   "execution_count": 26,
   "id": "f5e3164d",
   "metadata": {},
   "outputs": [
    {
     "name": "stdout",
     "output_type": "stream",
     "text": [
      "[[ 5  1  3  2  4  6]\n",
      " [ 5  8  0  3  1  2]\n",
      " [ 3 10  6 21 15  1]]\n",
      "\n",
      "[[ 5  1  2  4  6]\n",
      " [ 5  8  3  1  2]\n",
      " [ 3 10 21 15  1]]\n"
     ]
    }
   ],
   "source": [
    "arr2 = np.delete(x, 2, axis=1)\n",
    "print(arr1)\n",
    "print()\n",
    "print(arr2)"
   ]
  }
 ],
 "metadata": {
  "kernelspec": {
   "display_name": "Python 3 (ipykernel)",
   "language": "python",
   "name": "python3"
  },
  "language_info": {
   "codemirror_mode": {
    "name": "ipython",
    "version": 3
   },
   "file_extension": ".py",
   "mimetype": "text/x-python",
   "name": "python",
   "nbconvert_exporter": "python",
   "pygments_lexer": "ipython3",
   "version": "3.11.2"
  }
 },
 "nbformat": 4,
 "nbformat_minor": 5
}
